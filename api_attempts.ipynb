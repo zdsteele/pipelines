{
 "cells": [
  {
   "cell_type": "code",
   "execution_count": 10,
   "id": "597e85a1",
   "metadata": {},
   "outputs": [],
   "source": [
    "import requests\n",
    "import pandas as pd\n",
    "import matplotlib.pyplot as plt\n",
    "from eia import api"
   ]
  },
  {
   "cell_type": "code",
   "execution_count": 4,
   "id": "e83789ca",
   "metadata": {},
   "outputs": [],
   "source": [
    "import os\n",
    "\n",
    "os.environ['EIA_APIKEY'] = 'fJchrdDRDDnAC76EVcmF7qBzwSYqjWvQeh1qdkhM'"
   ]
  },
  {
   "cell_type": "code",
   "execution_count": 12,
   "id": "ab930da4",
   "metadata": {},
   "outputs": [
    {
     "name": "stdout",
     "output_type": "stream",
     "text": [
      "{'response': {'id': 'retail-sales', 'name': 'Electricity Sales to Ultimate Customers', 'description': 'Electricity sales to ultimate customer by state and sector (number of customers, average price, revenue, and megawatthours of sales).  \\n    Sources: Forms EIA-826, EIA-861, EIA-861M', 'frequency': [{'id': 'monthly', 'description': 'One data point for each month.', 'query': 'M', 'format': 'YYYY-MM'}, {'id': 'quarterly', 'description': 'One data point every 3 months.', 'query': 'Q', 'format': 'YYYY-\"Q\"Q'}, {'id': 'annual', 'description': 'One data point for each calendar year.', 'query': 'A', 'format': 'YYYY'}], 'facets': [{'id': 'stateid', 'description': 'State / Census Region'}, {'id': 'sectorid', 'description': 'Sector'}], 'data': {'revenue': {'alias': 'Revenue from Sales to Ultimate Customers', 'units': 'million dollars'}, 'sales': {'alias': 'Megawatthours Sold to Utlimate Customers', 'units': 'million kilowatthours'}, 'price': {'alias': 'Average Price of Electricity to Utlimate Customers', 'units': 'cents per kilowatthour'}, 'customers': {'alias': 'Number of Ultimate Customers', 'units': 'number of customers'}}, 'startPeriod': '2001-01', 'endPeriod': '2024-02', 'defaultDateFormat': 'YYYY-MM', 'defaultFrequency': 'monthly'}, 'request': {'command': '/v2/electricity/retail-sales/', 'params': {'api_key': 'fJchrdDRDDnAC76EVcmF7qBzwSYqjWvQeh1qdkhM'}}, 'apiVersion': '2.1.6', 'ExcelAddInVersion': '2.1.0'}\n"
     ]
    }
   ],
   "source": [
    "import requests\n",
    "\n",
    "api_key = 'fJchrdDRDDnAC76EVcmF7qBzwSYqjWvQeh1qdkhM'\n",
    "api_route = \"API_ROUTE_PATH\"  # Replace with the specific API route you want to access\n",
    "\n",
    "# Construct the URL with the API key\n",
    "# url = f\"https://api.eia.gov/{api_route}?api_key={api_key}\"\n",
    "url = 'https://api.eia.gov/v2/electricity/retail-sales?api_key=fJchrdDRDDnAC76EVcmF7qBzwSYqjWvQeh1qdkhM'\n",
    "\n",
    "# Send a GET request to the API\n",
    "response = requests.get(url)\n",
    "\n",
    "# Check if the request was successful (status code 200)\n",
    "if response.status_code == 200:\n",
    "    # Access the response data\n",
    "    data = response.json()\n",
    "    # Process the data as needed\n",
    "    print(data)\n",
    "else:\n",
    "    # Print an error message if the request was not successful\n",
    "    print(f\"Request failed with status code {response.status_code}\")"
   ]
  },
  {
   "cell_type": "code",
   "execution_count": null,
   "id": "c3d69e4d",
   "metadata": {},
   "outputs": [],
   "source": []
  }
 ],
 "metadata": {
  "kernelspec": {
   "display_name": "Python 3 (ipykernel)",
   "language": "python",
   "name": "python3"
  },
  "language_info": {
   "codemirror_mode": {
    "name": "ipython",
    "version": 3
   },
   "file_extension": ".py",
   "mimetype": "text/x-python",
   "name": "python",
   "nbconvert_exporter": "python",
   "pygments_lexer": "ipython3",
   "version": "3.9.18"
  }
 },
 "nbformat": 4,
 "nbformat_minor": 5
}
